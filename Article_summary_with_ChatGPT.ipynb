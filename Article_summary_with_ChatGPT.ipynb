{
  "nbformat": 4,
  "nbformat_minor": 0,
  "metadata": {
    "colab": {
      "provenance": [],
      "mount_file_id": "1T73JiSzAnqTxewC6EQAaIbgDG-0GITWA",
      "authorship_tag": "ABX9TyMlUCYAw1ZI7vUt1LXICjEX",
      "include_colab_link": true
    },
    "kernelspec": {
      "name": "python3",
      "display_name": "Python 3"
    },
    "language_info": {
      "name": "python"
    },
    "widgets": {
      "application/vnd.jupyter.widget-state+json": {
        "8b8d957e6991493db9384e316f9579d1": {
          "model_module": "@jupyter-widgets/controls",
          "model_name": "TextareaModel",
          "model_module_version": "1.5.0",
          "state": {
            "_dom_classes": [],
            "_model_module": "@jupyter-widgets/controls",
            "_model_module_version": "1.5.0",
            "_model_name": "TextareaModel",
            "_view_count": null,
            "_view_module": "@jupyter-widgets/controls",
            "_view_module_version": "1.5.0",
            "_view_name": "TextareaView",
            "continuous_update": true,
            "description": "URL:",
            "description_tooltip": null,
            "disabled": false,
            "layout": "IPY_MODEL_aebe653e513c445b9d927fc9d8cc4b51",
            "placeholder": "​",
            "rows": null,
            "style": "IPY_MODEL_ea5d381a84a5466098cdddd8e5101884",
            "value": "https://www.lemonde.fr/en/international/article/2023/10/26/democratic-republic-of-congo-rocked-by-new-m23-rebel-offensive_6206156_4.html"
          }
        },
        "aebe653e513c445b9d927fc9d8cc4b51": {
          "model_module": "@jupyter-widgets/base",
          "model_name": "LayoutModel",
          "model_module_version": "1.2.0",
          "state": {
            "_model_module": "@jupyter-widgets/base",
            "_model_module_version": "1.2.0",
            "_model_name": "LayoutModel",
            "_view_count": null,
            "_view_module": "@jupyter-widgets/base",
            "_view_module_version": "1.2.0",
            "_view_name": "LayoutView",
            "align_content": null,
            "align_items": null,
            "align_self": null,
            "border": null,
            "bottom": null,
            "display": null,
            "flex": null,
            "flex_flow": null,
            "grid_area": null,
            "grid_auto_columns": null,
            "grid_auto_flow": null,
            "grid_auto_rows": null,
            "grid_column": null,
            "grid_gap": null,
            "grid_row": null,
            "grid_template_areas": null,
            "grid_template_columns": null,
            "grid_template_rows": null,
            "height": "20px",
            "justify_content": null,
            "justify_items": null,
            "left": null,
            "margin": null,
            "max_height": null,
            "max_width": null,
            "min_height": null,
            "min_width": null,
            "object_fit": null,
            "object_position": null,
            "order": null,
            "overflow": null,
            "overflow_x": null,
            "overflow_y": null,
            "padding": null,
            "right": null,
            "top": null,
            "visibility": null,
            "width": "800px"
          }
        },
        "ea5d381a84a5466098cdddd8e5101884": {
          "model_module": "@jupyter-widgets/controls",
          "model_name": "DescriptionStyleModel",
          "model_module_version": "1.5.0",
          "state": {
            "_model_module": "@jupyter-widgets/controls",
            "_model_module_version": "1.5.0",
            "_model_name": "DescriptionStyleModel",
            "_view_count": null,
            "_view_module": "@jupyter-widgets/base",
            "_view_module_version": "1.2.0",
            "_view_name": "StyleView",
            "description_width": ""
          }
        },
        "0b1df6d4377b4b46b5d15ddfff19edfe": {
          "model_module": "@jupyter-widgets/controls",
          "model_name": "ButtonModel",
          "model_module_version": "1.5.0",
          "state": {
            "_dom_classes": [],
            "_model_module": "@jupyter-widgets/controls",
            "_model_module_version": "1.5.0",
            "_model_name": "ButtonModel",
            "_view_count": null,
            "_view_module": "@jupyter-widgets/controls",
            "_view_module_version": "1.5.0",
            "_view_name": "ButtonView",
            "button_style": "",
            "description": "Summarized",
            "disabled": false,
            "icon": "",
            "layout": "IPY_MODEL_93e3b298c4884d2ebd6e6b3a648b3d1c",
            "style": "IPY_MODEL_f746628afce94a8dae18b5513002b2a5",
            "tooltip": ""
          }
        },
        "93e3b298c4884d2ebd6e6b3a648b3d1c": {
          "model_module": "@jupyter-widgets/base",
          "model_name": "LayoutModel",
          "model_module_version": "1.2.0",
          "state": {
            "_model_module": "@jupyter-widgets/base",
            "_model_module_version": "1.2.0",
            "_model_name": "LayoutModel",
            "_view_count": null,
            "_view_module": "@jupyter-widgets/base",
            "_view_module_version": "1.2.0",
            "_view_name": "LayoutView",
            "align_content": null,
            "align_items": null,
            "align_self": null,
            "border": null,
            "bottom": null,
            "display": null,
            "flex": null,
            "flex_flow": null,
            "grid_area": null,
            "grid_auto_columns": null,
            "grid_auto_flow": null,
            "grid_auto_rows": null,
            "grid_column": null,
            "grid_gap": null,
            "grid_row": null,
            "grid_template_areas": null,
            "grid_template_columns": null,
            "grid_template_rows": null,
            "height": null,
            "justify_content": null,
            "justify_items": null,
            "left": null,
            "margin": null,
            "max_height": null,
            "max_width": null,
            "min_height": null,
            "min_width": null,
            "object_fit": null,
            "object_position": null,
            "order": null,
            "overflow": null,
            "overflow_x": null,
            "overflow_y": null,
            "padding": null,
            "right": null,
            "top": null,
            "visibility": null,
            "width": "100px"
          }
        },
        "f746628afce94a8dae18b5513002b2a5": {
          "model_module": "@jupyter-widgets/controls",
          "model_name": "ButtonStyleModel",
          "model_module_version": "1.5.0",
          "state": {
            "_model_module": "@jupyter-widgets/controls",
            "_model_module_version": "1.5.0",
            "_model_name": "ButtonStyleModel",
            "_view_count": null,
            "_view_module": "@jupyter-widgets/base",
            "_view_module_version": "1.2.0",
            "_view_name": "StyleView",
            "button_color": "black",
            "font_weight": ""
          }
        },
        "050dd934eb034532b5463c7b5afb55e1": {
          "model_module": "@jupyter-widgets/controls",
          "model_name": "TextareaModel",
          "model_module_version": "1.5.0",
          "state": {
            "_dom_classes": [],
            "_model_module": "@jupyter-widgets/controls",
            "_model_module_version": "1.5.0",
            "_model_name": "TextareaModel",
            "_view_count": null,
            "_view_module": "@jupyter-widgets/controls",
            "_view_module_version": "1.5.0",
            "_view_name": "TextareaView",
            "continuous_update": true,
            "description": "Title:",
            "description_tooltip": null,
            "disabled": true,
            "layout": "IPY_MODEL_866fd1fe0ddd4c32a19031db968460d9",
            "placeholder": "​",
            "rows": null,
            "style": "IPY_MODEL_ebe1a8fd79ea4239a82a53aeeea6e4a3",
            "value": "Democratic Republic of Congo rocked by new M23 rebel offensive"
          }
        },
        "866fd1fe0ddd4c32a19031db968460d9": {
          "model_module": "@jupyter-widgets/base",
          "model_name": "LayoutModel",
          "model_module_version": "1.2.0",
          "state": {
            "_model_module": "@jupyter-widgets/base",
            "_model_module_version": "1.2.0",
            "_model_name": "LayoutModel",
            "_view_count": null,
            "_view_module": "@jupyter-widgets/base",
            "_view_module_version": "1.2.0",
            "_view_name": "LayoutView",
            "align_content": null,
            "align_items": null,
            "align_self": null,
            "border": null,
            "bottom": null,
            "display": null,
            "flex": null,
            "flex_flow": null,
            "grid_area": null,
            "grid_auto_columns": null,
            "grid_auto_flow": null,
            "grid_auto_rows": null,
            "grid_column": null,
            "grid_gap": null,
            "grid_row": null,
            "grid_template_areas": null,
            "grid_template_columns": null,
            "grid_template_rows": null,
            "height": "50px",
            "justify_content": null,
            "justify_items": null,
            "left": null,
            "margin": null,
            "max_height": null,
            "max_width": null,
            "min_height": null,
            "min_width": null,
            "object_fit": null,
            "object_position": null,
            "order": null,
            "overflow": null,
            "overflow_x": null,
            "overflow_y": null,
            "padding": null,
            "right": null,
            "top": null,
            "visibility": null,
            "width": "800px"
          }
        },
        "ebe1a8fd79ea4239a82a53aeeea6e4a3": {
          "model_module": "@jupyter-widgets/controls",
          "model_name": "DescriptionStyleModel",
          "model_module_version": "1.5.0",
          "state": {
            "_model_module": "@jupyter-widgets/controls",
            "_model_module_version": "1.5.0",
            "_model_name": "DescriptionStyleModel",
            "_view_count": null,
            "_view_module": "@jupyter-widgets/base",
            "_view_module_version": "1.2.0",
            "_view_name": "StyleView",
            "description_width": ""
          }
        },
        "52d86de70bda4276a97d51824189848e": {
          "model_module": "@jupyter-widgets/controls",
          "model_name": "TextareaModel",
          "model_module_version": "1.5.0",
          "state": {
            "_dom_classes": [],
            "_model_module": "@jupyter-widgets/controls",
            "_model_module_version": "1.5.0",
            "_model_name": "TextareaModel",
            "_view_count": null,
            "_view_module": "@jupyter-widgets/controls",
            "_view_module_version": "1.5.0",
            "_view_name": "TextareaView",
            "continuous_update": true,
            "description": "Author:",
            "description_tooltip": null,
            "disabled": true,
            "layout": "IPY_MODEL_866fd1fe0ddd4c32a19031db968460d9",
            "placeholder": "​",
            "rows": null,
            "style": "IPY_MODEL_5ceaf5d13ece4be99d9a176e7e5a9a22",
            "value": "Le Monde With Afp"
          }
        },
        "5ceaf5d13ece4be99d9a176e7e5a9a22": {
          "model_module": "@jupyter-widgets/controls",
          "model_name": "DescriptionStyleModel",
          "model_module_version": "1.5.0",
          "state": {
            "_model_module": "@jupyter-widgets/controls",
            "_model_module_version": "1.5.0",
            "_model_name": "DescriptionStyleModel",
            "_view_count": null,
            "_view_module": "@jupyter-widgets/base",
            "_view_module_version": "1.2.0",
            "_view_name": "StyleView",
            "description_width": ""
          }
        },
        "b0399c51f705463f9f05c55377678a57": {
          "model_module": "@jupyter-widgets/controls",
          "model_name": "TextareaModel",
          "model_module_version": "1.5.0",
          "state": {
            "_dom_classes": [],
            "_model_module": "@jupyter-widgets/controls",
            "_model_module_version": "1.5.0",
            "_model_name": "TextareaModel",
            "_view_count": null,
            "_view_module": "@jupyter-widgets/controls",
            "_view_module_version": "1.5.0",
            "_view_name": "TextareaView",
            "continuous_update": true,
            "description": "Pub. Date:",
            "description_tooltip": null,
            "disabled": true,
            "layout": "IPY_MODEL_866fd1fe0ddd4c32a19031db968460d9",
            "placeholder": "​",
            "rows": null,
            "style": "IPY_MODEL_377a09ac776e414f987cdd5c5a4de6cb",
            "value": "2023-10-26 00:00:00"
          }
        },
        "377a09ac776e414f987cdd5c5a4de6cb": {
          "model_module": "@jupyter-widgets/controls",
          "model_name": "DescriptionStyleModel",
          "model_module_version": "1.5.0",
          "state": {
            "_model_module": "@jupyter-widgets/controls",
            "_model_module_version": "1.5.0",
            "_model_name": "DescriptionStyleModel",
            "_view_count": null,
            "_view_module": "@jupyter-widgets/base",
            "_view_module_version": "1.2.0",
            "_view_name": "StyleView",
            "description_width": ""
          }
        },
        "009053d74ea04e00adfd8f238fded1e2": {
          "model_module": "@jupyter-widgets/controls",
          "model_name": "TextareaModel",
          "model_module_version": "1.5.0",
          "state": {
            "_dom_classes": [],
            "_model_module": "@jupyter-widgets/controls",
            "_model_module_version": "1.5.0",
            "_model_name": "TextareaModel",
            "_view_count": null,
            "_view_module": "@jupyter-widgets/controls",
            "_view_module_version": "1.5.0",
            "_view_name": "TextareaView",
            "continuous_update": true,
            "description": "Summary:",
            "description_tooltip": null,
            "disabled": true,
            "layout": "IPY_MODEL_be7468e1c1cc494ba88fe6933439ba7c",
            "placeholder": "​",
            "rows": null,
            "style": "IPY_MODEL_f1735ea9bc494937a8fe3fee108d3f79",
            "value": "The Democratic Republic of Congo is facing a new offensive by the M23 rebel group, with fighting and displacement of nearly 200,000 people since October 1. The conflict has intensified around the city of Goma, and accusations of Rwandan support for the rebels have further escalated tensions. The situation is causing concern as the country prepares for presidential elections."
          }
        },
        "be7468e1c1cc494ba88fe6933439ba7c": {
          "model_module": "@jupyter-widgets/base",
          "model_name": "LayoutModel",
          "model_module_version": "1.2.0",
          "state": {
            "_model_module": "@jupyter-widgets/base",
            "_model_module_version": "1.2.0",
            "_model_name": "LayoutModel",
            "_view_count": null,
            "_view_module": "@jupyter-widgets/base",
            "_view_module_version": "1.2.0",
            "_view_name": "LayoutView",
            "align_content": null,
            "align_items": null,
            "align_self": null,
            "border": null,
            "bottom": null,
            "display": null,
            "flex": null,
            "flex_flow": null,
            "grid_area": null,
            "grid_auto_columns": null,
            "grid_auto_flow": null,
            "grid_auto_rows": null,
            "grid_column": null,
            "grid_gap": null,
            "grid_row": null,
            "grid_template_areas": null,
            "grid_template_columns": null,
            "grid_template_rows": null,
            "height": "200px",
            "justify_content": null,
            "justify_items": null,
            "left": null,
            "margin": null,
            "max_height": null,
            "max_width": null,
            "min_height": null,
            "min_width": null,
            "object_fit": null,
            "object_position": null,
            "order": null,
            "overflow": null,
            "overflow_x": null,
            "overflow_y": null,
            "padding": null,
            "right": null,
            "top": null,
            "visibility": null,
            "width": "800px"
          }
        },
        "f1735ea9bc494937a8fe3fee108d3f79": {
          "model_module": "@jupyter-widgets/controls",
          "model_name": "DescriptionStyleModel",
          "model_module_version": "1.5.0",
          "state": {
            "_model_module": "@jupyter-widgets/controls",
            "_model_module_version": "1.5.0",
            "_model_name": "DescriptionStyleModel",
            "_view_count": null,
            "_view_module": "@jupyter-widgets/base",
            "_view_module_version": "1.2.0",
            "_view_name": "StyleView",
            "description_width": ""
          }
        },
        "f2f4a69acfa940e5acd2b0970e5761b4": {
          "model_module": "@jupyter-widgets/controls",
          "model_name": "TextareaModel",
          "model_module_version": "1.5.0",
          "state": {
            "_dom_classes": [],
            "_model_module": "@jupyter-widgets/controls",
            "_model_module_version": "1.5.0",
            "_model_name": "TextareaModel",
            "_view_count": null,
            "_view_module": "@jupyter-widgets/controls",
            "_view_module_version": "1.5.0",
            "_view_name": "TextareaView",
            "continuous_update": true,
            "description": "Sentiment:",
            "description_tooltip": null,
            "disabled": true,
            "layout": "IPY_MODEL_866fd1fe0ddd4c32a19031db968460d9",
            "placeholder": "​",
            "rows": null,
            "style": "IPY_MODEL_f6e8152679c8486f9dd5b0b7d073b9ff",
            "value": "Positive"
          }
        },
        "f6e8152679c8486f9dd5b0b7d073b9ff": {
          "model_module": "@jupyter-widgets/controls",
          "model_name": "DescriptionStyleModel",
          "model_module_version": "1.5.0",
          "state": {
            "_model_module": "@jupyter-widgets/controls",
            "_model_module_version": "1.5.0",
            "_model_name": "DescriptionStyleModel",
            "_view_count": null,
            "_view_module": "@jupyter-widgets/base",
            "_view_module_version": "1.2.0",
            "_view_name": "StyleView",
            "description_width": ""
          }
        }
      }
    }
  },
  "cells": [
    {
      "cell_type": "markdown",
      "metadata": {
        "id": "view-in-github",
        "colab_type": "text"
      },
      "source": [
        "<a href=\"https://colab.research.google.com/github/Foutse/My_NLP_Projects/blob/master/Article_summary_with_ChatGPT.ipynb\" target=\"_parent\"><img src=\"https://colab.research.google.com/assets/colab-badge.svg\" alt=\"Open In Colab\"/></a>"
      ]
    },
    {
      "cell_type": "markdown",
      "source": [
        "# **Get summary and sentiment of a web article**\n",
        "In an era where information overload is a common challenge, the ability to quickly understand and gauge the emotional tone of an article becomes invaluable. This notebook aims to address this need through a user-friendly widget. We guide you into the intriguing world of NLP by offering a comprehensive tool for summarizing and analyzing the sentiment of web articles.\n",
        "\n",
        "## **What to Expect**\n",
        "\n",
        "In this notebook, you will encounter an innovative widget designed to simplify the process of extracting meaningful insights from web-based articles.\n",
        "Here’s a brief overview of what this notebook offers:\n",
        "* **Web Article Summarization:** With just a few clicks, you can obtain concise summaries of lengthy web articles. This feature is particularly useful for those who need to quickly grasp the essence of an article without spending time reading the entire content.\n",
        "* **Sentiment Analysis:** The notebook also provides sentiment analysis of the selected articles. This allows you to understand the underlying emotional tone – whether it's positive, negative, or neutral. This feature is invaluable for researchers, marketers, and anyone interested in public opinion and media analysis.\n",
        "* **Interactive Widget:** At the heart of this notebook is an interactive widget that makes the entire process seamless and user-friendly. You simply input the URL of the web article, and the widget takes care of the rest, presenting you with both the summary and the sentiment analysis, with some few details about the article like its title, author, and publication date.\n",
        "\n",
        "By the end of this notebook, you will have hands-on experience with a powerful NLP application that showcases the practical benefits of summarization and sentiment analysis in real-world scenarios. Enjoy!\n"
      ],
      "metadata": {
        "id": "U2Oqi1CmIHRn"
      }
    },
    {
      "cell_type": "markdown",
      "source": [
        "# Some helpful links:\n",
        "* https://python.langchain.com/docs/integrations/document_loaders/web_base\n",
        "* https://python.langchain.com/docs/use_cases/summarization\n",
        "* https://python.langchain.com/docs/modules/chains/document/stuff"
      ],
      "metadata": {
        "id": "CMbXiqmgFtnm"
      }
    },
    {
      "cell_type": "markdown",
      "source": [
        "# Installations of the neccessary libraries"
      ],
      "metadata": {
        "id": "1KdEXZkSLrfI"
      }
    },
    {
      "cell_type": "code",
      "execution_count": null,
      "metadata": {
        "id": "i3Uy6D9llcxj"
      },
      "outputs": [],
      "source": [
        "!pip install newspaper3k #https://newspaper.readthedocs.io/en/latest/\n",
        "!pip install textblob==0.9.0 #https://textblob.readthedocs.io/en/dev/\n",
        "!pip install nltk #https://www.nltk.org/"
      ]
    },
    {
      "cell_type": "code",
      "source": [
        "!pip install langchain #https://www.langchain.com/\n",
        "!pip install openai #https://openai.com/"
      ],
      "metadata": {
        "id": "Yz-V9UqV7d5c"
      },
      "execution_count": null,
      "outputs": []
    },
    {
      "cell_type": "code",
      "source": [
        "!pip install --upgrade pydantic #https://docs.pydantic.dev/latest/\n",
        "!pip install --force-reinstall langchain"
      ],
      "metadata": {
        "id": "KFlRkMTl9mUG"
      },
      "execution_count": null,
      "outputs": []
    },
    {
      "cell_type": "code",
      "source": [
        "#@title Get neccesary libraries\n",
        "from langchain_community.document_loaders import WebBaseLoader\n",
        "from langchain.chains.summarize import load_summarize_chain\n",
        "from langchain_community.chat_models import ChatOpenAI\n",
        "from newspaper import Article,Config\n",
        "from newspaper import ArticleException\n",
        "from textblob import TextBlob\n",
        "import ipywidgets as widgets\n",
        "import nltk\n",
        "import os\n",
        "nltk.download('punkt')"
      ],
      "metadata": {
        "colab": {
          "base_uri": "https://localhost:8080/"
        },
        "id": "ghGe4p_ztOOx",
        "outputId": "238b8626-55a1-45c4-8bba-4bf843c74901"
      },
      "execution_count": 41,
      "outputs": [
        {
          "output_type": "stream",
          "name": "stderr",
          "text": [
            "[nltk_data] Downloading package punkt to /root/nltk_data...\n",
            "[nltk_data]   Package punkt is already up-to-date!\n"
          ]
        },
        {
          "output_type": "execute_result",
          "data": {
            "text/plain": [
              "True"
            ]
          },
          "metadata": {},
          "execution_count": 41
        }
      ]
    },
    {
      "cell_type": "code",
      "source": [
        "os.environ[\"OPENAI_API_KEY\"] = \"Your_OPENAI_API_KEY_goes_here\""
      ],
      "metadata": {
        "id": "vHyNY4pf-1lN"
      },
      "execution_count": 42,
      "outputs": []
    },
    {
      "cell_type": "code",
      "source": [
        "#@title set up a custom configuration for the newspaper library with a modified user-agent:\n",
        "user_agent = 'Mozilla/5.0 (Windows NT 10.0; Win64; x64) AppleWebKit/537.36 (KHTML, like Gecko) Chrome/58.0.3029.110 Safari/537.3'\n",
        "config = Config()\n",
        "config.browser_user_agent = user_agent\n"
      ],
      "metadata": {
        "id": "dXRFhHrE3xqV"
      },
      "execution_count": 43,
      "outputs": []
    },
    {
      "cell_type": "code",
      "source": [
        "llm = ChatOpenAI(temperature=0, model_name=\"gpt-3.5-turbo-1106\")\n",
        "chain = load_summarize_chain(llm, chain_type=\"stuff\")"
      ],
      "metadata": {
        "id": "jlSDnVSvAOdq"
      },
      "execution_count": 44,
      "outputs": []
    },
    {
      "cell_type": "code",
      "source": [
        "#@title Create the input field, output areas, and button:\n",
        "layout_large = widgets.Layout(width='800px', height='200px')  # Large layout for text areas\n",
        "layout_small = widgets.Layout(width='800px', height='50px')   # Smaller layout for single-line inputs\n",
        "style = {'description_width': 'initial'}\n",
        "\n",
        "utext = widgets.Textarea(description='URL:', layout=widgets.Layout(width='800px', height='20px'))\n",
        "title = widgets.Textarea(description='Title:', disabled=True, layout=layout_small)\n",
        "author = widgets.Textarea(description='Author:', disabled=True, layout=layout_small)\n",
        "publication = widgets.Textarea(description='Pub. Date:', disabled=True, layout=layout_small)\n",
        "summary = widgets.Textarea(description='Summary:', disabled=True, layout=layout_large)\n",
        "sentiment = widgets.Textarea(description='Sentiment:', disabled=True, layout=layout_small)\n",
        "button = widgets.Button(description='Search', layout=widgets.Layout(width='100px'))\n",
        "button.style.button_color = 'black'\n"
      ],
      "metadata": {
        "id": "VfCmFeymtV5i"
      },
      "execution_count": 74,
      "outputs": []
    },
    {
      "cell_type": "code",
      "source": [
        "#@title Define the summarization function:\n",
        "def summarise(b):\n",
        "  button.description = 'Searching...'\n",
        "  button.disabled = True\n",
        "  try:\n",
        "    url = utext.value.strip()\n",
        "    loader = WebBaseLoader(url)\n",
        "    docs = loader.load()\n",
        "    article = Article(url,config=config)\n",
        "    article.download()\n",
        "    article.parse()\n",
        "    article.nlp()\n",
        "\n",
        "    title.value = article.title if article.title else '-Not Found-'\n",
        "    author.value = ', '.join(article.authors) if article.authors else '-Not Found-'\n",
        "    publication.value = str(article.publish_date) if article.publish_date else '-Not Found-'\n",
        "    # Use Langchain to summarize\n",
        "    summary_text = chain.run(docs)\n",
        "    summary.value = summary_text if summary_text else article.text\n",
        "\n",
        "    analysis = TextBlob(article.text) if article.text else TextBlob(str(docs))\n",
        "    sentiment_val = \"Positive\" if analysis.polarity > 0 else \"Negative\" if analysis.polarity < 0 else \"Neutral\"\n",
        "    sentiment.value = sentiment_val\n",
        "  except ArticleException as e:\n",
        "      summary.value = \"Failed to download the article: \" + str(e)\n",
        "  finally:\n",
        "    button.description = 'Summarized'\n",
        "    button.disabled = False\n",
        "\n",
        "button.on_click(summarise)\n"
      ],
      "metadata": {
        "id": "NUX7EeHvtgKs"
      },
      "execution_count": 75,
      "outputs": []
    },
    {
      "cell_type": "code",
      "source": [
        "#@title Display widgets\n",
        "utext.value = ''\n",
        "title.value = ''\n",
        "author.value = ''\n",
        "publication.value = ''\n",
        "summary.value = ''\n",
        "sentiment.value = ''\n",
        "\n",
        "# Then display the widgets\n",
        "display(utext, button, title, author, publication, summary, sentiment)"
      ],
      "metadata": {
        "colab": {
          "base_uri": "https://localhost:8080/",
          "height": 485,
          "referenced_widgets": [
            "8b8d957e6991493db9384e316f9579d1",
            "aebe653e513c445b9d927fc9d8cc4b51",
            "ea5d381a84a5466098cdddd8e5101884",
            "0b1df6d4377b4b46b5d15ddfff19edfe",
            "93e3b298c4884d2ebd6e6b3a648b3d1c",
            "f746628afce94a8dae18b5513002b2a5",
            "050dd934eb034532b5463c7b5afb55e1",
            "866fd1fe0ddd4c32a19031db968460d9",
            "ebe1a8fd79ea4239a82a53aeeea6e4a3",
            "52d86de70bda4276a97d51824189848e",
            "5ceaf5d13ece4be99d9a176e7e5a9a22",
            "b0399c51f705463f9f05c55377678a57",
            "377a09ac776e414f987cdd5c5a4de6cb",
            "009053d74ea04e00adfd8f238fded1e2",
            "be7468e1c1cc494ba88fe6933439ba7c",
            "f1735ea9bc494937a8fe3fee108d3f79",
            "f2f4a69acfa940e5acd2b0970e5761b4",
            "f6e8152679c8486f9dd5b0b7d073b9ff"
          ]
        },
        "id": "HbYpwaf6tlzC",
        "outputId": "66b6b137-a65e-4022-ce07-35f6e6c8395e"
      },
      "execution_count": 77,
      "outputs": [
        {
          "output_type": "display_data",
          "data": {
            "text/plain": [
              "Textarea(value='', description='URL:', layout=Layout(height='20px', width='800px'))"
            ],
            "application/vnd.jupyter.widget-view+json": {
              "version_major": 2,
              "version_minor": 0,
              "model_id": "8b8d957e6991493db9384e316f9579d1"
            }
          },
          "metadata": {}
        },
        {
          "output_type": "display_data",
          "data": {
            "text/plain": [
              "Button(description='Summarized', layout=Layout(width='100px'), style=ButtonStyle(button_color='black'))"
            ],
            "application/vnd.jupyter.widget-view+json": {
              "version_major": 2,
              "version_minor": 0,
              "model_id": "0b1df6d4377b4b46b5d15ddfff19edfe"
            }
          },
          "metadata": {}
        },
        {
          "output_type": "display_data",
          "data": {
            "text/plain": [
              "Textarea(value='', description='Title:', disabled=True, layout=Layout(height='50px', width='800px'))"
            ],
            "application/vnd.jupyter.widget-view+json": {
              "version_major": 2,
              "version_minor": 0,
              "model_id": "050dd934eb034532b5463c7b5afb55e1"
            }
          },
          "metadata": {}
        },
        {
          "output_type": "display_data",
          "data": {
            "text/plain": [
              "Textarea(value='', description='Author:', disabled=True, layout=Layout(height='50px', width='800px'))"
            ],
            "application/vnd.jupyter.widget-view+json": {
              "version_major": 2,
              "version_minor": 0,
              "model_id": "52d86de70bda4276a97d51824189848e"
            }
          },
          "metadata": {}
        },
        {
          "output_type": "display_data",
          "data": {
            "text/plain": [
              "Textarea(value='', description='Pub. Date:', disabled=True, layout=Layout(height='50px', width='800px'))"
            ],
            "application/vnd.jupyter.widget-view+json": {
              "version_major": 2,
              "version_minor": 0,
              "model_id": "b0399c51f705463f9f05c55377678a57"
            }
          },
          "metadata": {}
        },
        {
          "output_type": "display_data",
          "data": {
            "text/plain": [
              "Textarea(value='', description='Summary:', disabled=True, layout=Layout(height='200px', width='800px'))"
            ],
            "application/vnd.jupyter.widget-view+json": {
              "version_major": 2,
              "version_minor": 0,
              "model_id": "009053d74ea04e00adfd8f238fded1e2"
            }
          },
          "metadata": {}
        },
        {
          "output_type": "display_data",
          "data": {
            "text/plain": [
              "Textarea(value='', description='Sentiment:', disabled=True, layout=Layout(height='50px', width='800px'))"
            ],
            "application/vnd.jupyter.widget-view+json": {
              "version_major": 2,
              "version_minor": 0,
              "model_id": "f2f4a69acfa940e5acd2b0970e5761b4"
            }
          },
          "metadata": {}
        }
      ]
    },
    {
      "cell_type": "markdown",
      "source": [
        "# Conclusion\n",
        "The summarization and sentiment analysis features provide a dual advantage. Summarization condenses the content, making it easier to digest, while sentiment analysis adds a layer of understanding regarding the emotional tone of the text. This combination is powerful for a comprehensive understanding of web articles.\n",
        "\n",
        "## **Importance of this Application**\n",
        "\n",
        "The significance of this application lies in its ability to distill large amounts of text into digestible summaries and to provide a quick understanding of the article's emotional tone. In our fast-paced world, where time is of the essence, such a tool is incredibly beneficial for:\n",
        "* **Students and Academics:** For those engaged in research, this tool can help in quickly navigating through a plethora of articles, focusing only on the relevant information.\n",
        "* **Professionals:** For business professionals, especially those in communications, media, or public relations, understanding both the content and sentiment of various articles can be crucial for strategy development.\n",
        "* **Casual Readers:** Even for the general public, this tool offers a quick way to stay informed without being overwhelmed by the volume of available information.\n",
        "\n",
        "## **Implications and Future Directions**\n",
        "\n",
        "* For Academics and Researchers: This tool can be a starting point for more advanced research in automated text summarization and sentiment analysis, potentially leading to more nuanced and accurate algorithms.\n",
        "\n",
        "* In Professional Settings: Businesses and organizations can adapt this technology for media monitoring, brand sentiment analysis, and quick information retrieval, enhancing decision-making processes.\n",
        "\n",
        "* Personal Use and Education: The tool can serve as an educational resource for those interested in NLP and its practical applications, fostering a deeper interest in AI and machine learning.\n",
        "\n",
        "The field of NLP is continuously evolving, promising even more sophisticated tools and applications in the future. We hope that this notebook has not only provided you with a useful tool but also sparked your curiosity and interest in the potential of NLP and AI.\n",
        "Thank you for joining me on this enlightening journey! :)\n",
        "\n",
        "![Until Next Time!](https://media.tenor.com/4QWjoG02bPwAAAAC/until-next-time-next-time.gif)\n"
      ],
      "metadata": {
        "id": "FwSkQKIONCia"
      }
    }
  ]
}